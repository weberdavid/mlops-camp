{
 "cells": [
  {
   "cell_type": "code",
   "execution_count": 19,
   "id": "6bf021ca-27df-411c-85d0-3ce4a51a4ac0",
   "metadata": {},
   "outputs": [],
   "source": [
    "import pandas as pd\n",
    "\n",
    "from sklearn.feature_extraction import DictVectorizer\n",
    "from sklearn.linear_model import LinearRegression, Lasso\n",
    "from sklearn.metrics import mean_squared_error"
   ]
  },
  {
   "cell_type": "code",
   "execution_count": 39,
   "id": "afe77c5b-6068-4176-9e58-b7fa777b6a6d",
   "metadata": {},
   "outputs": [],
   "source": [
    "def process_data(filename):\n",
    "    data = pd.read_parquet(filename)\n",
    "    \n",
    "    data[\"duration\"] = data[\"dropOff_datetime\"] - data[\"pickup_datetime\"]\n",
    "    data.duration = data.duration.apply(lambda dur: dur.total_seconds()/60)\n",
    "    #data = data[(data.duration >= 1) & (data.duration <= 60)]\n",
    "    \n",
    "    return data"
   ]
  },
  {
   "cell_type": "code",
   "execution_count": 72,
   "id": "d2642e66-6438-4404-a167-155d13b08502",
   "metadata": {},
   "outputs": [
    {
     "data": {
      "text/html": [
       "<div>\n",
       "<style scoped>\n",
       "    .dataframe tbody tr th:only-of-type {\n",
       "        vertical-align: middle;\n",
       "    }\n",
       "\n",
       "    .dataframe tbody tr th {\n",
       "        vertical-align: top;\n",
       "    }\n",
       "\n",
       "    .dataframe thead th {\n",
       "        text-align: right;\n",
       "    }\n",
       "</style>\n",
       "<table border=\"1\" class=\"dataframe\">\n",
       "  <thead>\n",
       "    <tr style=\"text-align: right;\">\n",
       "      <th></th>\n",
       "      <th>dispatching_base_num</th>\n",
       "      <th>pickup_datetime</th>\n",
       "      <th>dropOff_datetime</th>\n",
       "      <th>PUlocationID</th>\n",
       "      <th>DOlocationID</th>\n",
       "      <th>SR_Flag</th>\n",
       "      <th>Affiliated_base_number</th>\n",
       "      <th>duration</th>\n",
       "    </tr>\n",
       "  </thead>\n",
       "  <tbody>\n",
       "    <tr>\n",
       "      <th>0</th>\n",
       "      <td>B00009</td>\n",
       "      <td>2021-01-01 00:27:00</td>\n",
       "      <td>2021-01-01 00:44:00</td>\n",
       "      <td>NaN</td>\n",
       "      <td>NaN</td>\n",
       "      <td>None</td>\n",
       "      <td>B00009</td>\n",
       "      <td>17.000000</td>\n",
       "    </tr>\n",
       "    <tr>\n",
       "      <th>1</th>\n",
       "      <td>B00009</td>\n",
       "      <td>2021-01-01 00:50:00</td>\n",
       "      <td>2021-01-01 01:07:00</td>\n",
       "      <td>NaN</td>\n",
       "      <td>NaN</td>\n",
       "      <td>None</td>\n",
       "      <td>B00009</td>\n",
       "      <td>17.000000</td>\n",
       "    </tr>\n",
       "    <tr>\n",
       "      <th>2</th>\n",
       "      <td>B00013</td>\n",
       "      <td>2021-01-01 00:01:00</td>\n",
       "      <td>2021-01-01 01:51:00</td>\n",
       "      <td>NaN</td>\n",
       "      <td>NaN</td>\n",
       "      <td>None</td>\n",
       "      <td>B00013</td>\n",
       "      <td>110.000000</td>\n",
       "    </tr>\n",
       "    <tr>\n",
       "      <th>3</th>\n",
       "      <td>B00037</td>\n",
       "      <td>2021-01-01 00:13:09</td>\n",
       "      <td>2021-01-01 00:21:26</td>\n",
       "      <td>NaN</td>\n",
       "      <td>72.0</td>\n",
       "      <td>None</td>\n",
       "      <td>B00037</td>\n",
       "      <td>8.283333</td>\n",
       "    </tr>\n",
       "    <tr>\n",
       "      <th>4</th>\n",
       "      <td>B00037</td>\n",
       "      <td>2021-01-01 00:38:31</td>\n",
       "      <td>2021-01-01 00:53:44</td>\n",
       "      <td>NaN</td>\n",
       "      <td>61.0</td>\n",
       "      <td>None</td>\n",
       "      <td>B00037</td>\n",
       "      <td>15.216667</td>\n",
       "    </tr>\n",
       "  </tbody>\n",
       "</table>\n",
       "</div>"
      ],
      "text/plain": [
       "  dispatching_base_num     pickup_datetime    dropOff_datetime  PUlocationID  \\\n",
       "0               B00009 2021-01-01 00:27:00 2021-01-01 00:44:00           NaN   \n",
       "1               B00009 2021-01-01 00:50:00 2021-01-01 01:07:00           NaN   \n",
       "2               B00013 2021-01-01 00:01:00 2021-01-01 01:51:00           NaN   \n",
       "3               B00037 2021-01-01 00:13:09 2021-01-01 00:21:26           NaN   \n",
       "4               B00037 2021-01-01 00:38:31 2021-01-01 00:53:44           NaN   \n",
       "\n",
       "   DOlocationID SR_Flag Affiliated_base_number    duration  \n",
       "0           NaN    None                 B00009   17.000000  \n",
       "1           NaN    None                 B00009   17.000000  \n",
       "2           NaN    None                 B00013  110.000000  \n",
       "3          72.0    None                 B00037    8.283333  \n",
       "4          61.0    None                 B00037   15.216667  "
      ]
     },
     "execution_count": 72,
     "metadata": {},
     "output_type": "execute_result"
    }
   ],
   "source": [
    "data = process_data(\"../data/fhv_tripdata_2021-01.parquet\")\n",
    "data.head()"
   ]
  },
  {
   "cell_type": "code",
   "execution_count": 73,
   "id": "cd2782f8-19e7-4bf6-b095-b78b9b7890aa",
   "metadata": {},
   "outputs": [
    {
     "data": {
      "text/plain": [
       "1154112"
      ]
     },
     "execution_count": 73,
     "metadata": {},
     "output_type": "execute_result"
    }
   ],
   "source": [
    "#Q1\n",
    "len(data)"
   ]
  },
  {
   "cell_type": "code",
   "execution_count": 74,
   "id": "46712037-6dd8-46e0-b604-467a000d095f",
   "metadata": {},
   "outputs": [
    {
     "data": {
      "text/plain": [
       "19.1672240937939"
      ]
     },
     "execution_count": 74,
     "metadata": {},
     "output_type": "execute_result"
    }
   ],
   "source": [
    "#Q2\n",
    "data.duration.mean()"
   ]
  },
  {
   "cell_type": "code",
   "execution_count": 75,
   "id": "a6079719-2236-4b6d-86a4-11da85c6ef04",
   "metadata": {},
   "outputs": [],
   "source": [
    "#Remove \"Outliers\"\n",
    "data = data[(data.duration >= 1) & (data.duration <= 60)]"
   ]
  },
  {
   "cell_type": "code",
   "execution_count": 76,
   "id": "de515317-a0b5-46c4-a857-f8b441fd7c0e",
   "metadata": {},
   "outputs": [
    {
     "data": {
      "text/plain": [
       "1109826"
      ]
     },
     "execution_count": 76,
     "metadata": {},
     "output_type": "execute_result"
    }
   ],
   "source": [
    "len(data)"
   ]
  },
  {
   "cell_type": "code",
   "execution_count": 77,
   "id": "60e3932d-6c32-4ba7-828a-67805afe9ea7",
   "metadata": {},
   "outputs": [
    {
     "data": {
      "text/plain": [
       "True     0.835273\n",
       "False    0.164727\n",
       "Name: PUlocationID, dtype: float64"
      ]
     },
     "execution_count": 77,
     "metadata": {},
     "output_type": "execute_result"
    }
   ],
   "source": [
    "#Q3\n",
    "data[\"PUlocationID\"].isna().value_counts(normalize=True)"
   ]
  },
  {
   "cell_type": "code",
   "execution_count": 78,
   "id": "5f196eb6-6017-4a00-ad7c-a648bff0d222",
   "metadata": {},
   "outputs": [],
   "source": [
    "# fill nas with -1\n",
    "data[\"PUlocationID\"] = data[\"PUlocationID\"].fillna(-1)"
   ]
  },
  {
   "cell_type": "code",
   "execution_count": 79,
   "id": "0a5d240e-ae19-42cf-93bc-a85d0347b15e",
   "metadata": {},
   "outputs": [
    {
     "data": {
      "text/plain": [
       "0.8352732770722617"
      ]
     },
     "execution_count": 79,
     "metadata": {},
     "output_type": "execute_result"
    }
   ],
   "source": [
    "#test\n",
    "len(data[data[\"PUlocationID\"] == -1]) / len(data)"
   ]
  },
  {
   "cell_type": "code",
   "execution_count": 80,
   "id": "84b938c5-0af8-4b8b-a9c7-ed46788083f8",
   "metadata": {},
   "outputs": [],
   "source": [
    "categorical = [\"PUlocationID\", \"DOlocationID\"]\n",
    "\n",
    "# do one hot encoding for categorical features\n",
    "data[categorical] = data[categorical].astype(str)"
   ]
  },
  {
   "cell_type": "code",
   "execution_count": 83,
   "id": "dd71676a-4ab6-49da-9fef-86962089c101",
   "metadata": {},
   "outputs": [],
   "source": [
    "#vectorizer\n",
    "dv = DictVectorizer()\n",
    "\n",
    "train_dicts = data[categorical].to_dict(orient=\"records\")\n",
    "X_train = dv.fit_transform(train_dicts)"
   ]
  },
  {
   "cell_type": "code",
   "execution_count": 84,
   "id": "07a7a8fc-3a8e-41e5-807e-df094b3e8cca",
   "metadata": {},
   "outputs": [
    {
     "data": {
      "text/plain": [
       "(1109826, 525)"
      ]
     },
     "execution_count": 84,
     "metadata": {},
     "output_type": "execute_result"
    }
   ],
   "source": [
    "X_train.shape"
   ]
  },
  {
   "cell_type": "code",
   "execution_count": 86,
   "id": "6dba157a-bae5-4894-8a98-1ce04b968d0b",
   "metadata": {},
   "outputs": [
    {
     "data": {
      "text/plain": [
       "10.528519107211688"
      ]
     },
     "execution_count": 86,
     "metadata": {},
     "output_type": "execute_result"
    }
   ],
   "source": [
    "#Training\n",
    "target = \"duration\"\n",
    "Y_train = data[target].values\n",
    "\n",
    "lr = LinearRegression()\n",
    "lr.fit(X_train, Y_train)\n",
    "\n",
    "Y_pred = lr.predict(X_train)\n",
    "\n",
    "mean_squared_error(Y_train, Y_pred, squared=False)"
   ]
  },
  {
   "cell_type": "code",
   "execution_count": 89,
   "id": "3a7526e7-3f94-4451-bda3-8605384827a3",
   "metadata": {},
   "outputs": [],
   "source": [
    "#get validation data\n",
    "val_data = process_data(\"../data/fhv_tripdata_2021-02.parquet\")\n",
    "\n",
    "val_data = val_data[(val_data.duration >= 1) & (val_data.duration <= 60)]\n",
    "\n",
    "val_data[\"PUlocationID\"] = val_data[\"PUlocationID\"].fillna(-1)\n",
    "\n",
    "val_data[categorical] = val_data[categorical].astype(str)\n",
    "\n",
    "val_dicts = val_data[categorical].to_dict(orient=\"records\")\n",
    "X_val = dv.transform(val_dicts)"
   ]
  },
  {
   "cell_type": "code",
   "execution_count": 90,
   "id": "bbf1df02-250a-495e-8235-e76000311078",
   "metadata": {},
   "outputs": [
    {
     "data": {
      "text/plain": [
       "11.01428319067211"
      ]
     },
     "execution_count": 90,
     "metadata": {},
     "output_type": "execute_result"
    }
   ],
   "source": [
    "#Validate\n",
    "Y_val = val_data[target].values\n",
    "\n",
    "Y_pred = lr.predict(X_val)\n",
    "\n",
    "mean_squared_error(Y_val, Y_pred, squared=False)"
   ]
  },
  {
   "cell_type": "code",
   "execution_count": null,
   "id": "eec4ffba-94d2-4532-a8c5-75241fdcbbb4",
   "metadata": {},
   "outputs": [],
   "source": []
  }
 ],
 "metadata": {
  "kernelspec": {
   "display_name": "Python [conda env:mlops-camp] *",
   "language": "python",
   "name": "conda-env-mlops-camp-py"
  },
  "language_info": {
   "codemirror_mode": {
    "name": "ipython",
    "version": 3
   },
   "file_extension": ".py",
   "mimetype": "text/x-python",
   "name": "python",
   "nbconvert_exporter": "python",
   "pygments_lexer": "ipython3",
   "version": "3.9.12"
  }
 },
 "nbformat": 4,
 "nbformat_minor": 5
}
